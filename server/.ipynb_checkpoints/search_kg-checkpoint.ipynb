{
 "cells": [
  {
   "cell_type": "code",
   "execution_count": 1,
   "metadata": {},
   "outputs": [],
   "source": [
    "from conf import *\n",
    "from flask import Flask\n",
    "from flask import request\n",
    "import tensorflow as tf\n",
    "import json\n",
    "import numpy as np\n",
    "import os\n",
    "import time\n",
    "from threading import Thread\n",
    "from py2neo import Node,Relationship,size,order,Graph,NodeSelector"
   ]
  },
  {
   "cell_type": "code",
   "execution_count": 2,
   "metadata": {},
   "outputs": [],
   "source": [
    "class KnowGraph(object):\n",
    "    def __init__(self):\n",
    "        self.graph = Graph('http://localhost:7474',user='neo4j',password='metadata0')\n",
    "        self.write_to_statistics()\n",
    "    #単一のエンティティを見つける\n",
    "    def lookup_entry(self,client_params,server_param):\n",
    "        #ネットワーク検索の深さの設定をサポート\n",
    "        start_time = time.time()\n",
    "        params=client_params[\"params\"]\n",
    "        edges=set()\n",
    "        self.lookup_entry_deep(edges,params,0)\n",
    "        if len(edges)==0:\n",
    "            server_param['result']={\"success\":'false'}\n",
    "        else:\n",
    "            server_param['result']={'edges':[list(i) for i in edges],\"success\":'true'}\n",
    "            print('今回の検索トリプルの数は:{},時間:{}s'.format(len(edges),time.time()-start_time))\n",
    "\n",
    "    #2つのエンティティ間の関係を見つける\n",
    "    def lookup_entry2entry(self,entry1,entry2):\n",
    "\n",
    "        #　順序を考慮して、4回確認しました\n",
    "        result1=self.graph.data(\"MATCH (s)-[r]->(e) where s.name='{}' and e.name='{}' RETURN s.name,r.name,e.name\".format(entry1,entry2))\n",
    "        result2=self.graph.data(\"MATCH (s)-[r]->(e) where s.name='{}' and e.name='{}' RETURN s.name,r.name,e.name\".format(entry2,entry1))\n",
    "\n",
    "        if len(result1)==0 and len(result2)==0:\n",
    "            return '関係なし'\n",
    "        for item in result1:\n",
    "            print(result2)\n",
    "            print(result1[0]['r.name'])\n",
    "        for item in result2:\n",
    "            print(result2)\n",
    "            print(result2[0]['r.name'])\n",
    "\n",
    "    #指定されたエンティティの指定された属性を検索します\n",
    "    def lookup_entry2property(self,entry,property1):\n",
    "        result1=self.graph.data(\"MATCH (s)-[r]->(e) where s.name='{}' and r.name='{}' RETURN s.name,r.name,e.name\".format(entry,property1))\n",
    "        result2=self.graph.data(\"MATCH (e)<-[r]-(s) where e.name='{}' and r.name='{}' RETURN s.name,r.name,e.name\".format(entry,property1))\n",
    "        if len(result1)==0 and len(result2)==0:\n",
    "            return '関係なし'\n",
    "        for item in result1:\n",
    "            return '1→2に関係あり'\n",
    "        for item in result2:\n",
    "            return '1→2に関係あり'\n",
    "\n",
    "    #クエリ統計\n",
    "    def lookup_statistics(self,client_params,server_param):\n",
    "        result=self.graph.data(\"MATCH (n) RETURN n\")\n",
    "        with open('../data/statistics.txt','r',encoding='utf-8') as f:\n",
    "            api_nums=f.readline().strip()\n",
    "        server_param['result']={'total_nums':len(result),'api_nums':api_nums,\"success\":'true'}\n",
    "\n",
    "    #APIアクセス時間をカウントする\n",
    "    def write_to_statistics(self):\n",
    "        with open('../data/statistics.txt','r',encoding='utf-8') as f:\n",
    "            api_nums=int(f.readline().strip())+1\n",
    "        with open('../data/statistics.txt','w',encoding='utf-8') as f:\n",
    "            f.write(str(api_nums)+'\\n')\n",
    "\n",
    "    #限られた検索の深さ\n",
    "    def lookup_entry_deep(self,edges,params,deep):\n",
    "        #現在のルックアップの深さは、必要な深さと等しくてはなりません\n",
    "        if deep >= params['deep']:\n",
    "            return\n",
    "        #前方参照\n",
    "        result1=self.graph.data(\"match (s)-[r]->(e) where s.name='{}' return s.name,r.name,e.name\".format(params['name']))\n",
    "        result2=self.graph.data(\"match (e)<-[r]-(s) where e.name='{}' return s.name,r.name,e.name\".format(params['name']))\n",
    "        if len(result1)==0 and len(result2)==0:\n",
    "            return\n",
    "        for item in result1:\n",
    "            edges.add((item['s.name'],item['r.name'],item['e.name']))\n",
    "            if  item['s.name'] != item['e.name']:#避ける：両面テープ：中国語名：両面テープの無限ループ\n",
    "                params['name']=item['e.name']\n",
    "                self.lookup_entry_deep(edges,params.copy(),deep+1)\n",
    "\n",
    "        for item in result2:\n",
    "            edges.add((item['s.name'],item['r.name'],item['e.name']))\n",
    "            if  item['s.name'] != item['e.name']:#避ける：両面テープ：中国語名：両面テープの無限ループ\n",
    "                params['name']=item['e.name']\n",
    "                self.lookup_entry_deep(edges,params.copy(),deep+1)\n"
   ]
  },
  {
   "cell_type": "code",
   "execution_count": 3,
   "metadata": {},
   "outputs": [],
   "source": [
    "kg=KnowGraph()"
   ]
  },
  {
   "cell_type": "code",
   "execution_count": 4,
   "metadata": {},
   "outputs": [
    {
     "data": {
      "text/plain": [
       "'関係なし'"
      ]
     },
     "execution_count": 4,
     "metadata": {},
     "output_type": "execute_result"
    }
   ],
   "source": [
    "kg.lookup_entry2entry('規格','省令')"
   ]
  },
  {
   "cell_type": "code",
   "execution_count": null,
   "metadata": {},
   "outputs": [],
   "source": []
  }
 ],
 "metadata": {
  "kernelspec": {
   "display_name": "Python 3",
   "language": "python",
   "name": "python3"
  },
  "language_info": {
   "codemirror_mode": {
    "name": "ipython",
    "version": 3
   },
   "file_extension": ".py",
   "mimetype": "text/x-python",
   "name": "python",
   "nbconvert_exporter": "python",
   "pygments_lexer": "ipython3",
   "version": "3.7.5"
  }
 },
 "nbformat": 4,
 "nbformat_minor": 4
}
