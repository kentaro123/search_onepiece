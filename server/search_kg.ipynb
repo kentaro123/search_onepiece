{
 "cells": [
  {
   "cell_type": "code",
   "execution_count": 1,
   "metadata": {},
   "outputs": [],
   "source": [
    "from conf import *\n",
    "from flask import Flask\n",
    "from flask import request\n",
    "import tensorflow as tf\n",
    "import json\n",
    "import numpy as np\n",
    "import os\n",
    "import time\n",
    "from threading import Thread\n",
    "from py2neo import Node,Relationship,size,order,Graph,NodeSelector"
   ]
  },
  {
   "cell_type": "code",
   "execution_count": 13,
   "metadata": {},
   "outputs": [],
   "source": [
    "class KnowGraph(object):\n",
    "    def __init__(self):\n",
    "        self.graph = Graph('http://localhost:7474',user='neo4j',password='metadata0')\n",
    "        self.write_to_statistics()\n",
    "    #単一のエンティティを見つける\n",
    "    def lookup_entry(self,client_params,server_param):\n",
    "        #ネットワーク検索の深さの設定をサポート\n",
    "        start_time = time.time()\n",
    "        params=client_params[\"params\"]\n",
    "        edges=set()\n",
    "        self.lookup_entry_deep(edges,params,0)\n",
    "        if len(edges)==0:\n",
    "            server_param['result']={\"success\":'false'}\n",
    "        else:\n",
    "            server_param['result']={'edges':[list(i) for i in edges],\"success\":'true'}\n",
    "            print('今回の検索トリプルの数は:{},時間:{}s'.format(len(edges),time.time()-start_time))\n",
    "\n",
    "    #2つのエンティティ間の関係を見つける\n",
    "    def lookup_entry2entry(self,entry1,entry2):\n",
    "\n",
    "        #　順序を考慮して、4回確認しました\n",
    "        result1=self.graph.data(\"MATCH (s)-[r]->(e) where s.name='{}' and e.name='{}' RETURN s.name,r.name,e.name\".format(entry1,entry2))\n",
    "        result2=self.graph.data(\"MATCH (s)-[r]->(e) where s.name='{}' and e.name='{}' RETURN s.name,r.name,e.name\".format(entry2,entry1))\n",
    "\n",
    "        if len(result1)==0 and len(result2)==0:\n",
    "            return '関係なし'\n",
    "        for item in result1:\n",
    "            print(result1)\n",
    "            print(result1[0]['r.name'])\n",
    "        for item in result2:\n",
    "            print(result2)\n",
    "            print(result2[0]['r.name'])\n",
    "\n",
    "    #指定されたエンティティの指定された属性を検索します\n",
    "    def lookup_entry2property(self,entry,property1):\n",
    "        result1=self.graph.data(\"MATCH (s)-[r]->(e) where s.name='{}' and r.name='{}' RETURN s.name,r.name,e.name\".format(entry,property1))\n",
    "        result2=self.graph.data(\"MATCH (e)<-[r]-(s) where e.name='{}' and r.name='{}' RETURN s.name,r.name,e.name\".format(entry,property1))\n",
    "        if len(result1)==0 and len(result2)==0:\n",
    "            return '関係なし'\n",
    "        for item in result1:\n",
    "            return '1→2に関係あり'\n",
    "        for item in result2:\n",
    "            return '1→2に関係あり'\n",
    "\n",
    "    #クエリ統計\n",
    "    def lookup_statistics(self,client_params,server_param):\n",
    "        result=self.graph.data(\"MATCH (n) RETURN n\")\n",
    "        with open('../data/statistics.txt','r',encoding='utf-8') as f:\n",
    "            api_nums=f.readline().strip()\n",
    "        server_param['result']={'total_nums':len(result),'api_nums':api_nums,\"success\":'true'}\n",
    "\n",
    "    #APIアクセス時間をカウントする\n",
    "    def write_to_statistics(self):\n",
    "        with open('../data/statistics.txt','r',encoding='utf-8') as f:\n",
    "            api_nums=int(f.readline().strip())+1\n",
    "        with open('../data/statistics.txt','w',encoding='utf-8') as f:\n",
    "            f.write(str(api_nums)+'\\n')\n",
    "\n",
    "    #限られた検索の深さ\n",
    "    def lookup_entry_deep(self,name):\n",
    "        #現在のルックアップの深さは、必要な深さと等しくてはなりません\n",
    "        \n",
    "        result1=self.graph.data(\"match (s)-[r]->(e) where s.name='{}' return s.name,r.name,e.name\".format(name))\n",
    "        result2=self.graph.data(\"match (e)<-[r]-(s) where e.name='{}' return s.name,r.name,e.name\".format(name))\n",
    "        if len(result1)==0 and len(result2)==0:\n",
    "            return\n",
    "        else:\n",
    "            return result1, result2"
   ]
  },
  {
   "cell_type": "code",
   "execution_count": 14,
   "metadata": {},
   "outputs": [],
   "source": [
    "kg=KnowGraph()"
   ]
  },
  {
   "cell_type": "code",
   "execution_count": 15,
   "metadata": {},
   "outputs": [
    {
     "name": "stdout",
     "output_type": "stream",
     "text": [
      "[{'s.name': '省令', 'r.name': '定める', 'e.name': '規格'}]\n",
      "定める\n"
     ]
    }
   ],
   "source": [
    "kg.lookup_entry2entry('規格','省令')"
   ]
  },
  {
   "cell_type": "code",
   "execution_count": 16,
   "metadata": {},
   "outputs": [
    {
     "name": "stdout",
     "output_type": "stream",
     "text": [
      "[{'s.name': '薬局開設者', 'r.name': '提出', 'e.name': '添付書類'}]\n",
      "提出\n"
     ]
    }
   ],
   "source": [
    "kg.lookup_entry2entry('薬局開設者','添付書類')"
   ]
  },
  {
   "cell_type": "code",
   "execution_count": 17,
   "metadata": {},
   "outputs": [
    {
     "name": "stdout",
     "output_type": "stream",
     "text": [
      "[{'s.name': '薬局開設者', 'r.name': '提出', 'e.name': '添付書類'}]\n",
      "提出\n"
     ]
    }
   ],
   "source": [
    "kg.lookup_entry2entry('薬局開設者','添付書類')"
   ]
  },
  {
   "cell_type": "code",
   "execution_count": 19,
   "metadata": {},
   "outputs": [
    {
     "data": {
      "text/plain": [
       "([{'s.name': '省令', 'r.name': '定める', 'e.name': '区分'},\n",
       "  {'s.name': '省令', 'r.name': '定める', 'e.name': 'もの'},\n",
       "  {'s.name': '省令', 'r.name': '定める', 'e.name': '事項'},\n",
       "  {'s.name': '省令', 'r.name': '定める', 'e.name': '基準'},\n",
       "  {'s.name': '省令', 'r.name': '定める', 'e.name': '位置'},\n",
       "  {'s.name': '省令', 'r.name': '定める', 'e.name': '規格'}],\n",
       " [])"
      ]
     },
     "execution_count": 19,
     "metadata": {},
     "output_type": "execute_result"
    }
   ],
   "source": [
    "kg.lookup_entry_deep('省令')"
   ]
  },
  {
   "cell_type": "code",
   "execution_count": null,
   "metadata": {},
   "outputs": [],
   "source": []
  }
 ],
 "metadata": {
  "kernelspec": {
   "display_name": "Python 3",
   "language": "python",
   "name": "python3"
  },
  "language_info": {
   "codemirror_mode": {
    "name": "ipython",
    "version": 3
   },
   "file_extension": ".py",
   "mimetype": "text/x-python",
   "name": "python",
   "nbconvert_exporter": "python",
   "pygments_lexer": "ipython3",
   "version": "3.7.5"
  }
 },
 "nbformat": 4,
 "nbformat_minor": 4
}
